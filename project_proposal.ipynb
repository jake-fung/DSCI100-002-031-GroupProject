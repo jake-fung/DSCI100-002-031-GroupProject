{
 "cells": [
  {
   "cell_type": "markdown",
   "id": "806d6083",
   "metadata": {},
   "source": [
    "# Proposal"
   ]
  },
  {
   "cell_type": "markdown",
   "id": "f7bf3b47-2111-4fd7-88c8-c988386a6284",
   "metadata": {},
   "source": [
    "## Introduction\n",
    "\n",
    "Heart disease is a general term for a variety of conditions that affect your heart and blood vessels. These conditions can damage your heart, restrict blood flow, and lead to serious complications, including heart attack, stroke, and heart failure. With 20.5 million U.S. adults have coronary artery disease, heart disease is the leading cause of death in the United States (U.S. Department of Health and Human Services, 2023). \n",
    "\n",
    "Age is a major risk factor for heart disease due to several factors. Arteries stiffen and weaken, reducing blood flow and putting strain on the heart. Plaque buildup in arteries worsens with age, further restricting blood flow and increasing the risk of heart attack and stroke (Rodgers, J. L. et al., 2019).\n",
    "\n",
    "Chronically high blood pressure significantly increases the risk of heart disease in several ways. It forces the heart to work harder, potentially leading to heart failure (World Health Organization, 2020). It can also damage arteries, making them more prone to plaque buildup and narrowing (Centers for Disease Control and Prevention, 2021).\n",
    "\n",
    "High levels of LDL cholesterol, often called \"bad\" cholesterol, can contribute to heart disease by accumulating in arteries and forming plaque. This plaque narrows the arteries, reducing blood flow and increasing the risk of complications like chest pain, blood clots, heart attack, and stroke(Centers for Disease Control and Prevention, 2017).\n",
    "\n",
    "Based on the research our team found, we will be using the UC Irvine Heart Disease dataset in order to answer the following research quesion.\n",
    "\n",
    "**Research Question:** Can we classify if a patient has heart disease based on age, blood pressure and cholestrol? "
   ]
  },
  {
   "cell_type": "markdown",
   "id": "1e03e9e3-b096-480d-9143-61ddfbd62721",
   "metadata": {},
   "source": [
    "## Exploratory Data Analysis"
   ]
  },
  {
   "cell_type": "code",
   "execution_count": 35,
   "id": "e6538829",
   "metadata": {},
   "outputs": [],
   "source": [
    "library(tidyverse)\n",
    "library(repr)\n",
    "library(tidymodels)\n",
    "library(stringr)"
   ]
  },
  {
   "cell_type": "code",
   "execution_count": 71,
   "id": "1b6a351d",
   "metadata": {},
   "outputs": [
    {
     "name": "stderr",
     "output_type": "stream",
     "text": [
      "\u001b[1mRows: \u001b[22m\u001b[34m270\u001b[39m \u001b[1mColumns: \u001b[22m\u001b[34m14\u001b[39m\n",
      "\u001b[36m──\u001b[39m \u001b[1mColumn specification\u001b[22m \u001b[36m────────────────────────────────────────────────────────\u001b[39m\n",
      "\u001b[1mDelimiter:\u001b[22m \",\"\n",
      "\u001b[31mchr\u001b[39m  (1): Heart Disease\n",
      "\u001b[32mdbl\u001b[39m (13): Age, Sex, Chest pain type, BP, Cholesterol, FBS over 120, EKG resu...\n",
      "\n",
      "\u001b[36mℹ\u001b[39m Use `spec()` to retrieve the full column specification for this data.\n",
      "\u001b[36mℹ\u001b[39m Specify the column types or set `show_col_types = FALSE` to quiet this message.\n"
     ]
    },
    {
     "data": {
      "text/html": [
       "<table class=\"dataframe\">\n",
       "<caption>A tibble: 6 × 14</caption>\n",
       "<thead>\n",
       "\t<tr><th scope=col>Age</th><th scope=col>Sex</th><th scope=col>Chest_pain_type</th><th scope=col>BP</th><th scope=col>Cholesterol</th><th scope=col>FBS_over_120</th><th scope=col>EKG_results</th><th scope=col>Max_HR</th><th scope=col>Exercise_angina</th><th scope=col>ST_depression</th><th scope=col>Slope_of_ST</th><th scope=col>Number_of_vessels_fluro</th><th scope=col>Thallium</th><th scope=col>Heart_Disease</th></tr>\n",
       "\t<tr><th scope=col>&lt;dbl&gt;</th><th scope=col>&lt;dbl&gt;</th><th scope=col>&lt;dbl&gt;</th><th scope=col>&lt;dbl&gt;</th><th scope=col>&lt;dbl&gt;</th><th scope=col>&lt;dbl&gt;</th><th scope=col>&lt;dbl&gt;</th><th scope=col>&lt;dbl&gt;</th><th scope=col>&lt;dbl&gt;</th><th scope=col>&lt;dbl&gt;</th><th scope=col>&lt;dbl&gt;</th><th scope=col>&lt;dbl&gt;</th><th scope=col>&lt;dbl&gt;</th><th scope=col>&lt;chr&gt;</th></tr>\n",
       "</thead>\n",
       "<tbody>\n",
       "\t<tr><td>70</td><td>1</td><td>4</td><td>130</td><td>322</td><td>0</td><td>2</td><td>109</td><td>0</td><td>2.4</td><td>2</td><td>3</td><td>3</td><td>Presence</td></tr>\n",
       "\t<tr><td>67</td><td>0</td><td>3</td><td>115</td><td>564</td><td>0</td><td>2</td><td>160</td><td>0</td><td>1.6</td><td>2</td><td>0</td><td>7</td><td>Absence </td></tr>\n",
       "\t<tr><td>57</td><td>1</td><td>2</td><td>124</td><td>261</td><td>0</td><td>0</td><td>141</td><td>0</td><td>0.3</td><td>1</td><td>0</td><td>7</td><td>Presence</td></tr>\n",
       "\t<tr><td>64</td><td>1</td><td>4</td><td>128</td><td>263</td><td>0</td><td>0</td><td>105</td><td>1</td><td>0.2</td><td>2</td><td>1</td><td>7</td><td>Absence </td></tr>\n",
       "\t<tr><td>74</td><td>0</td><td>2</td><td>120</td><td>269</td><td>0</td><td>2</td><td>121</td><td>1</td><td>0.2</td><td>1</td><td>1</td><td>3</td><td>Absence </td></tr>\n",
       "\t<tr><td>65</td><td>1</td><td>4</td><td>120</td><td>177</td><td>0</td><td>0</td><td>140</td><td>0</td><td>0.4</td><td>1</td><td>0</td><td>7</td><td>Absence </td></tr>\n",
       "</tbody>\n",
       "</table>\n"
      ],
      "text/latex": [
       "A tibble: 6 × 14\n",
       "\\begin{tabular}{llllllllllllll}\n",
       " Age & Sex & Chest\\_pain\\_type & BP & Cholesterol & FBS\\_over\\_120 & EKG\\_results & Max\\_HR & Exercise\\_angina & ST\\_depression & Slope\\_of\\_ST & Number\\_of\\_vessels\\_fluro & Thallium & Heart\\_Disease\\\\\n",
       " <dbl> & <dbl> & <dbl> & <dbl> & <dbl> & <dbl> & <dbl> & <dbl> & <dbl> & <dbl> & <dbl> & <dbl> & <dbl> & <chr>\\\\\n",
       "\\hline\n",
       "\t 70 & 1 & 4 & 130 & 322 & 0 & 2 & 109 & 0 & 2.4 & 2 & 3 & 3 & Presence\\\\\n",
       "\t 67 & 0 & 3 & 115 & 564 & 0 & 2 & 160 & 0 & 1.6 & 2 & 0 & 7 & Absence \\\\\n",
       "\t 57 & 1 & 2 & 124 & 261 & 0 & 0 & 141 & 0 & 0.3 & 1 & 0 & 7 & Presence\\\\\n",
       "\t 64 & 1 & 4 & 128 & 263 & 0 & 0 & 105 & 1 & 0.2 & 2 & 1 & 7 & Absence \\\\\n",
       "\t 74 & 0 & 2 & 120 & 269 & 0 & 2 & 121 & 1 & 0.2 & 1 & 1 & 3 & Absence \\\\\n",
       "\t 65 & 1 & 4 & 120 & 177 & 0 & 0 & 140 & 0 & 0.4 & 1 & 0 & 7 & Absence \\\\\n",
       "\\end{tabular}\n"
      ],
      "text/markdown": [
       "\n",
       "A tibble: 6 × 14\n",
       "\n",
       "| Age &lt;dbl&gt; | Sex &lt;dbl&gt; | Chest_pain_type &lt;dbl&gt; | BP &lt;dbl&gt; | Cholesterol &lt;dbl&gt; | FBS_over_120 &lt;dbl&gt; | EKG_results &lt;dbl&gt; | Max_HR &lt;dbl&gt; | Exercise_angina &lt;dbl&gt; | ST_depression &lt;dbl&gt; | Slope_of_ST &lt;dbl&gt; | Number_of_vessels_fluro &lt;dbl&gt; | Thallium &lt;dbl&gt; | Heart_Disease &lt;chr&gt; |\n",
       "|---|---|---|---|---|---|---|---|---|---|---|---|---|---|\n",
       "| 70 | 1 | 4 | 130 | 322 | 0 | 2 | 109 | 0 | 2.4 | 2 | 3 | 3 | Presence |\n",
       "| 67 | 0 | 3 | 115 | 564 | 0 | 2 | 160 | 0 | 1.6 | 2 | 0 | 7 | Absence  |\n",
       "| 57 | 1 | 2 | 124 | 261 | 0 | 0 | 141 | 0 | 0.3 | 1 | 0 | 7 | Presence |\n",
       "| 64 | 1 | 4 | 128 | 263 | 0 | 0 | 105 | 1 | 0.2 | 2 | 1 | 7 | Absence  |\n",
       "| 74 | 0 | 2 | 120 | 269 | 0 | 2 | 121 | 1 | 0.2 | 1 | 1 | 3 | Absence  |\n",
       "| 65 | 1 | 4 | 120 | 177 | 0 | 0 | 140 | 0 | 0.4 | 1 | 0 | 7 | Absence  |\n",
       "\n"
      ],
      "text/plain": [
       "  Age Sex Chest_pain_type BP  Cholesterol FBS_over_120 EKG_results Max_HR\n",
       "1 70  1   4               130 322         0            2           109   \n",
       "2 67  0   3               115 564         0            2           160   \n",
       "3 57  1   2               124 261         0            0           141   \n",
       "4 64  1   4               128 263         0            0           105   \n",
       "5 74  0   2               120 269         0            2           121   \n",
       "6 65  1   4               120 177         0            0           140   \n",
       "  Exercise_angina ST_depression Slope_of_ST Number_of_vessels_fluro Thallium\n",
       "1 0               2.4           2           3                       3       \n",
       "2 0               1.6           2           0                       7       \n",
       "3 0               0.3           1           0                       7       \n",
       "4 1               0.2           2           1                       7       \n",
       "5 1               0.2           1           1                       3       \n",
       "6 0               0.4           1           0                       7       \n",
       "  Heart_Disease\n",
       "1 Presence     \n",
       "2 Absence      \n",
       "3 Presence     \n",
       "4 Absence      \n",
       "5 Absence      \n",
       "6 Absence      "
      ]
     },
     "metadata": {},
     "output_type": "display_data"
    },
    {
     "data": {
      "text/html": [
       "<table class=\"dataframe\">\n",
       "<caption>A tibble: 6 × 4</caption>\n",
       "<thead>\n",
       "\t<tr><th scope=col>Age</th><th scope=col>BP</th><th scope=col>Cholesterol</th><th scope=col>Heart_Disease</th></tr>\n",
       "\t<tr><th scope=col>&lt;dbl&gt;</th><th scope=col>&lt;dbl&gt;</th><th scope=col>&lt;dbl&gt;</th><th scope=col>&lt;chr&gt;</th></tr>\n",
       "</thead>\n",
       "<tbody>\n",
       "\t<tr><td>70</td><td>130</td><td>322</td><td>Presence</td></tr>\n",
       "\t<tr><td>67</td><td>115</td><td>564</td><td>Absence </td></tr>\n",
       "\t<tr><td>57</td><td>124</td><td>261</td><td>Presence</td></tr>\n",
       "\t<tr><td>64</td><td>128</td><td>263</td><td>Absence </td></tr>\n",
       "\t<tr><td>74</td><td>120</td><td>269</td><td>Absence </td></tr>\n",
       "\t<tr><td>65</td><td>120</td><td>177</td><td>Absence </td></tr>\n",
       "</tbody>\n",
       "</table>\n"
      ],
      "text/latex": [
       "A tibble: 6 × 4\n",
       "\\begin{tabular}{llll}\n",
       " Age & BP & Cholesterol & Heart\\_Disease\\\\\n",
       " <dbl> & <dbl> & <dbl> & <chr>\\\\\n",
       "\\hline\n",
       "\t 70 & 130 & 322 & Presence\\\\\n",
       "\t 67 & 115 & 564 & Absence \\\\\n",
       "\t 57 & 124 & 261 & Presence\\\\\n",
       "\t 64 & 128 & 263 & Absence \\\\\n",
       "\t 74 & 120 & 269 & Absence \\\\\n",
       "\t 65 & 120 & 177 & Absence \\\\\n",
       "\\end{tabular}\n"
      ],
      "text/markdown": [
       "\n",
       "A tibble: 6 × 4\n",
       "\n",
       "| Age &lt;dbl&gt; | BP &lt;dbl&gt; | Cholesterol &lt;dbl&gt; | Heart_Disease &lt;chr&gt; |\n",
       "|---|---|---|---|\n",
       "| 70 | 130 | 322 | Presence |\n",
       "| 67 | 115 | 564 | Absence  |\n",
       "| 57 | 124 | 261 | Presence |\n",
       "| 64 | 128 | 263 | Absence  |\n",
       "| 74 | 120 | 269 | Absence  |\n",
       "| 65 | 120 | 177 | Absence  |\n",
       "\n"
      ],
      "text/plain": [
       "  Age BP  Cholesterol Heart_Disease\n",
       "1 70  130 322         Presence     \n",
       "2 67  115 564         Absence      \n",
       "3 57  124 261         Presence     \n",
       "4 64  128 263         Absence      \n",
       "5 74  120 269         Absence      \n",
       "6 65  120 177         Absence      "
      ]
     },
     "metadata": {},
     "output_type": "display_data"
    },
    {
     "data": {
      "text/html": [
       "<table class=\"dataframe\">\n",
       "<caption>A tibble: 1 × 3</caption>\n",
       "<thead>\n",
       "\t<tr><th scope=col>Age</th><th scope=col>BP</th><th scope=col>Cholesterol</th></tr>\n",
       "\t<tr><th scope=col>&lt;dbl&gt;</th><th scope=col>&lt;dbl&gt;</th><th scope=col>&lt;dbl&gt;</th></tr>\n",
       "</thead>\n",
       "<tbody>\n",
       "\t<tr><td>54.43333</td><td>131.3444</td><td>249.6593</td></tr>\n",
       "</tbody>\n",
       "</table>\n"
      ],
      "text/latex": [
       "A tibble: 1 × 3\n",
       "\\begin{tabular}{lll}\n",
       " Age & BP & Cholesterol\\\\\n",
       " <dbl> & <dbl> & <dbl>\\\\\n",
       "\\hline\n",
       "\t 54.43333 & 131.3444 & 249.6593\\\\\n",
       "\\end{tabular}\n"
      ],
      "text/markdown": [
       "\n",
       "A tibble: 1 × 3\n",
       "\n",
       "| Age &lt;dbl&gt; | BP &lt;dbl&gt; | Cholesterol &lt;dbl&gt; |\n",
       "|---|---|---|\n",
       "| 54.43333 | 131.3444 | 249.6593 |\n",
       "\n"
      ],
      "text/plain": [
       "  Age      BP       Cholesterol\n",
       "1 54.43333 131.3444 249.6593   "
      ]
     },
     "metadata": {},
     "output_type": "display_data"
    },
    {
     "data": {
      "text/html": [
       "<table class=\"dataframe\">\n",
       "<caption>A tibble: 2 × 2</caption>\n",
       "<thead>\n",
       "\t<tr><th scope=col>Heart_Disease</th><th scope=col>amount</th></tr>\n",
       "\t<tr><th scope=col>&lt;chr&gt;</th><th scope=col>&lt;int&gt;</th></tr>\n",
       "</thead>\n",
       "<tbody>\n",
       "\t<tr><td>Absence </td><td>150</td></tr>\n",
       "\t<tr><td>Presence</td><td>120</td></tr>\n",
       "</tbody>\n",
       "</table>\n"
      ],
      "text/latex": [
       "A tibble: 2 × 2\n",
       "\\begin{tabular}{ll}\n",
       " Heart\\_Disease & amount\\\\\n",
       " <chr> & <int>\\\\\n",
       "\\hline\n",
       "\t Absence  & 150\\\\\n",
       "\t Presence & 120\\\\\n",
       "\\end{tabular}\n"
      ],
      "text/markdown": [
       "\n",
       "A tibble: 2 × 2\n",
       "\n",
       "| Heart_Disease &lt;chr&gt; | amount &lt;int&gt; |\n",
       "|---|---|\n",
       "| Absence  | 150 |\n",
       "| Presence | 120 |\n",
       "\n"
      ],
      "text/plain": [
       "  Heart_Disease amount\n",
       "1 Absence       150   \n",
       "2 Presence      120   "
      ]
     },
     "metadata": {},
     "output_type": "display_data"
    },
    {
     "data": {
      "text/html": [
       "<table class=\"dataframe\">\n",
       "<caption>A tibble: 1 × 5</caption>\n",
       "<thead>\n",
       "\t<tr><th scope=col>age_avg</th><th scope=col>bp_avg</th><th scope=col>chol_avg</th><th scope=col>hd_absence</th><th scope=col>hd_presense</th></tr>\n",
       "\t<tr><th scope=col>&lt;dbl&gt;</th><th scope=col>&lt;dbl&gt;</th><th scope=col>&lt;dbl&gt;</th><th scope=col>&lt;int&gt;</th><th scope=col>&lt;int&gt;</th></tr>\n",
       "</thead>\n",
       "<tbody>\n",
       "\t<tr><td>54.43333</td><td>131.3444</td><td>249.6593</td><td>150</td><td>120</td></tr>\n",
       "</tbody>\n",
       "</table>\n"
      ],
      "text/latex": [
       "A tibble: 1 × 5\n",
       "\\begin{tabular}{lllll}\n",
       " age\\_avg & bp\\_avg & chol\\_avg & hd\\_absence & hd\\_presense\\\\\n",
       " <dbl> & <dbl> & <dbl> & <int> & <int>\\\\\n",
       "\\hline\n",
       "\t 54.43333 & 131.3444 & 249.6593 & 150 & 120\\\\\n",
       "\\end{tabular}\n"
      ],
      "text/markdown": [
       "\n",
       "A tibble: 1 × 5\n",
       "\n",
       "| age_avg &lt;dbl&gt; | bp_avg &lt;dbl&gt; | chol_avg &lt;dbl&gt; | hd_absence &lt;int&gt; | hd_presense &lt;int&gt; |\n",
       "|---|---|---|---|---|\n",
       "| 54.43333 | 131.3444 | 249.6593 | 150 | 120 |\n",
       "\n"
      ],
      "text/plain": [
       "  age_avg  bp_avg   chol_avg hd_absence hd_presense\n",
       "1 54.43333 131.3444 249.6593 150        120        "
      ]
     },
     "metadata": {},
     "output_type": "display_data"
    }
   ],
   "source": [
    "\n",
    "heart <- read_csv(\"data/Heart_Disease_Prediction.csv\") \n",
    "names(heart)<-str_replace_all(names(heart), c(\" \" = \"_\" , \",\" = \"\" ))\n",
    "head(heart)\n",
    "\n",
    "\n",
    "\n",
    "heart_filtered <- heart |>\n",
    "select(Age, BP, Cholesterol, Heart_Disease)\n",
    "head(heart_filtered)\n",
    "\n",
    "heart_mean <- heart_filtered|>\n",
    "select(-Heart_Disease) |>\n",
    "map_df(mean)\n",
    "\n",
    "heart_amount <- heart_filtered|>\n",
    "group_by(Heart_Disease) |>\n",
    "summarize(amount=n())\n",
    "\n",
    "\n",
    "heart_mean\n",
    "heart_amount\n",
    "\n",
    "heart_summary <- bind_cols(heart_mean, heart_amount) |>\n",
    "pivot_wider(\n",
    "            names_from=Heart_Disease,\n",
    "            values_from=amount) |>\n",
    "rename(age_avg=Age, bp_avg=BP, chol_avg=Cholesterol, hd_absence=Absence, hd_presense=Presence)\n",
    "heart_summary\n",
    "\n",
    "\n"
   ]
  },
  {
   "cell_type": "code",
   "execution_count": null,
   "id": "f4e27937-d39f-4bad-b8d5-f350e849fe88",
   "metadata": {},
   "outputs": [],
   "source": []
  },
  {
   "cell_type": "markdown",
   "id": "66b4949a-aa6e-4cfc-81a4-dac30090f8f1",
   "metadata": {},
   "source": [
    "## Biblography"
   ]
  },
  {
   "cell_type": "markdown",
   "id": "e9e1d764-75fd-4151-9195-b2aaddeb3763",
   "metadata": {},
   "source": [
    "Centers for Disease Control and Prevention. (2017). LDL & HDL: Good & Bad Cholesterol. Centers for Disease Control and Prevention. https://www.cdc.gov/cholesterol/ldl_hdl.htm \n",
    "\n",
    "Centers for Disease Control and Prevention. (2021, May 18). About high blood pressure (hypertension). Centers for Disease Control and Prevention. https://www.cdc.gov/bloodpressure/about.htm\n",
    "\n",
    "Rodgers, J. L., Jones, J., Bolleddu, S. I., Vanthenapalli, S., Rodgers, L. E., Shah, K., Karia, K., & Panguluri, S. K. (2019). Cardiovascular Risks Associated with Gender and Aging. Journal of Cardiovascular Development and Disease, 6(2). https://doi.org/10.3390/jcdd6020019\n",
    "\n",
    "U.S. Department of Health and Human Services. (2023, December 20). What is coronary heart disease?. National Heart Lung and Blood Institute. https://www.nhlbi.nih.gov/health/coronary-heart-disease\n",
    "\n",
    "World Health Organization. (2020). Hypertension. World Health Organization. https://www.who.int/health-topics/hypertension#tab=tab_1"
   ]
  }
 ],
 "metadata": {
  "kernelspec": {
   "display_name": "R",
   "language": "R",
   "name": "ir"
  },
  "language_info": {
   "codemirror_mode": "r",
   "file_extension": ".r",
   "mimetype": "text/x-r-source",
   "name": "R",
   "pygments_lexer": "r",
   "version": "4.3.1"
  }
 },
 "nbformat": 4,
 "nbformat_minor": 5
}
