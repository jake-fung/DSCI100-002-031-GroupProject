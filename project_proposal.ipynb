{
 "cells": [
  {
   "cell_type": "markdown",
   "id": "1ce5ff2e-be55-48e4-a11d-328f3721382b",
   "metadata": {},
   "source": [
    "# Proposal"
   ]
  },
  {
   "attachments": {},
   "cell_type": "markdown",
   "id": "6eb6f416-6cbb-4e78-80eb-841c9c42fb54",
   "metadata": {},
   "source": [
    "### Introduction\n",
    "--delete\n",
    "Introduction:\r\n",
    "Provide some relevant background information on the topic so that someone unfamiliar with it will be prepared to understand the rest of your proposal\r\n",
    "Clearly state the question you will try to answer with your project\r\n",
    "Identify and describe the dataset that will be used to answer the questi--delete \n",
    "\n",
    "\n",
    "\n",
    "\n",
    "\n",
    "on\n",
    "\n",
    "\n",
    "**Research Question:** Will a new patient develop heart diease based on ... ... and ...? "
   ]
  },
  {
   "cell_type": "code",
   "execution_count": null,
   "id": "efa1aae9-7700-42ec-b796-491951fb7b3f",
   "metadata": {},
   "outputs": [],
   "source": []
  }
 ],
 "metadata": {
  "kernelspec": {
   "display_name": "R",
   "language": "R",
   "name": "ir"
  },
  "language_info": {
   "codemirror_mode": "r",
   "file_extension": ".r",
   "mimetype": "text/x-r-source",
   "name": "R",
   "pygments_lexer": "r",
   "version": "4.3.1"
  }
 },
 "nbformat": 4,
 "nbformat_minor": 5
}
