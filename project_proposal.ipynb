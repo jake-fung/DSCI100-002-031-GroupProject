{
 "cells": [
  {
   "cell_type": "markdown",
   "id": "806d6083",
   "metadata": {},
   "source": [
    "# Proposal"
   ]
  },
  {
   "cell_type": "markdown",
   "id": "f7bf3b47-2111-4fd7-88c8-c988386a6284",
   "metadata": {},
   "source": [
    "## Introduction\n",
    "\n",
    "Heart disease is a general term for a variety of conditions that affect your heart and blood vessels. These conditions can damage your heart, restrict blood flow, and lead to serious complications, including heart attack, stroke, and heart failure. With 20.5 million U.S. adults have coronary artery disease, heart disease is the leading cause of death in the United States (U.S. Department of Health and Human Services, 2023). \n",
    "\n",
    "Age is a major risk factor for heart disease due to several factors. Arteries stiffen and weaken, reducing blood flow and putting strain on the heart. Plaque buildup in arteries worsens with age, further restricting blood flow and increasing the risk of heart attack and stroke (Rodgers, J. L. et al., 2019).\n",
    "\n",
    "Chronically high blood pressure significantly increases the risk of heart disease in several ways. It forces the heart to work harder, potentially leading to heart failure (World Health Organization, 2020). It can also damage arteries, making them more prone to plaque buildup and narrowing (Centers for Disease Control and Prevention, 2021).\n",
    "\n",
    "High levels of LDL cholesterol, often called \"bad\" cholesterol, can contribute to heart disease by accumulating in arteries and forming plaque. This plaque narrows the arteries, reducing blood flow and increasing the risk of complications like chest pain, blood clots, heart attack, and stroke(Centers for Disease Control and Prevention, 2017).\n",
    "\n",
    "Based on the research our team found, we will be using the UC Irvine Heart Disease dataset in order to answer the following research quesion.\n",
    "\n",
    "**Research Question:** Can we classify if a patient has heart disease based on age, blood pressure and cholestrol? "
   ]
  },
  {
   "cell_type": "markdown",
   "id": "1e03e9e3-b096-480d-9143-61ddfbd62721",
   "metadata": {},
   "source": [
    "## Exploratory Data Analysis"
   ]
  },
  {
   "cell_type": "code",
   "execution_count": 27,
   "id": "e6538829",
   "metadata": {},
   "outputs": [],
   "source": [
    "library(tidyverse)\n",
    "library(repr)\n",
    "library(tidymodels)\n",
    "library(janitor) #Install to use the clean_names() "
   ]
  },
  {
   "cell_type": "code",
   "execution_count": 33,
   "id": "1b6a351d",
   "metadata": {},
   "outputs": [
    {
     "name": "stderr",
     "output_type": "stream",
     "text": [
      "\u001b[1mRows: \u001b[22m\u001b[34m270\u001b[39m \u001b[1mColumns: \u001b[22m\u001b[34m14\u001b[39m\n",
      "\u001b[36m──\u001b[39m \u001b[1mColumn specification\u001b[22m \u001b[36m────────────────────────────────────────────────────────\u001b[39m\n",
      "\u001b[1mDelimiter:\u001b[22m \",\"\n",
      "\u001b[31mchr\u001b[39m  (1): Heart Disease\n",
      "\u001b[32mdbl\u001b[39m (13): Age, Sex, Chest pain type, BP, Cholesterol, FBS over 120, EKG resu...\n",
      "\n",
      "\u001b[36mℹ\u001b[39m Use `spec()` to retrieve the full column specification for this data.\n",
      "\u001b[36mℹ\u001b[39m Specify the column types or set `show_col_types = FALSE` to quiet this message.\n"
     ]
    },
    {
     "data": {
      "text/html": [
       "<table class=\"dataframe\">\n",
       "<caption>A tibble: 1 × 5</caption>\n",
       "<thead>\n",
       "\t<tr><th scope=col>age_avg</th><th scope=col>bp_avg</th><th scope=col>chol_avg</th><th scope=col>hd_presence</th><th scope=col>hd_absence</th></tr>\n",
       "\t<tr><th scope=col>&lt;dbl&gt;</th><th scope=col>&lt;dbl&gt;</th><th scope=col>&lt;dbl&gt;</th><th scope=col>&lt;int&gt;</th><th scope=col>&lt;int&gt;</th></tr>\n",
       "</thead>\n",
       "<tbody>\n",
       "\t<tr><td>54.42593</td><td>131.3843</td><td>246.7731</td><td>96</td><td>120</td></tr>\n",
       "</tbody>\n",
       "</table>\n"
      ],
      "text/latex": [
       "A tibble: 1 × 5\n",
       "\\begin{tabular}{lllll}\n",
       " age\\_avg & bp\\_avg & chol\\_avg & hd\\_presence & hd\\_absence\\\\\n",
       " <dbl> & <dbl> & <dbl> & <int> & <int>\\\\\n",
       "\\hline\n",
       "\t 54.42593 & 131.3843 & 246.7731 & 96 & 120\\\\\n",
       "\\end{tabular}\n"
      ],
      "text/markdown": [
       "\n",
       "A tibble: 1 × 5\n",
       "\n",
       "| age_avg &lt;dbl&gt; | bp_avg &lt;dbl&gt; | chol_avg &lt;dbl&gt; | hd_presence &lt;int&gt; | hd_absence &lt;int&gt; |\n",
       "|---|---|---|---|---|\n",
       "| 54.42593 | 131.3843 | 246.7731 | 96 | 120 |\n",
       "\n"
      ],
      "text/plain": [
       "  age_avg  bp_avg   chol_avg hd_presence hd_absence\n",
       "1 54.42593 131.3843 246.7731 96          120       "
      ]
     },
     "metadata": {},
     "output_type": "display_data"
    },
    {
     "data": {
      "text/html": [
       "<table class=\"dataframe\">\n",
       "<caption>A tibble: 2 × 5</caption>\n",
       "<thead>\n",
       "\t<tr><th scope=col>heart_disease</th><th scope=col>num_patient</th><th scope=col>avg_age</th><th scope=col>chol_avg</th><th scope=col>bp_avg</th></tr>\n",
       "\t<tr><th scope=col>&lt;fct&gt;</th><th scope=col>&lt;int&gt;</th><th scope=col>&lt;dbl&gt;</th><th scope=col>&lt;dbl&gt;</th><th scope=col>&lt;dbl&gt;</th></tr>\n",
       "</thead>\n",
       "<tbody>\n",
       "\t<tr><td>Presence</td><td> 96</td><td>56.51042</td><td>253.3750</td><td>134.6042</td></tr>\n",
       "\t<tr><td>Absence </td><td>120</td><td>52.75833</td><td>241.4917</td><td>128.8083</td></tr>\n",
       "</tbody>\n",
       "</table>\n"
      ],
      "text/latex": [
       "A tibble: 2 × 5\n",
       "\\begin{tabular}{lllll}\n",
       " heart\\_disease & num\\_patient & avg\\_age & chol\\_avg & bp\\_avg\\\\\n",
       " <fct> & <int> & <dbl> & <dbl> & <dbl>\\\\\n",
       "\\hline\n",
       "\t Presence &  96 & 56.51042 & 253.3750 & 134.6042\\\\\n",
       "\t Absence  & 120 & 52.75833 & 241.4917 & 128.8083\\\\\n",
       "\\end{tabular}\n"
      ],
      "text/markdown": [
       "\n",
       "A tibble: 2 × 5\n",
       "\n",
       "| heart_disease &lt;fct&gt; | num_patient &lt;int&gt; | avg_age &lt;dbl&gt; | chol_avg &lt;dbl&gt; | bp_avg &lt;dbl&gt; |\n",
       "|---|---|---|---|---|\n",
       "| Presence |  96 | 56.51042 | 253.3750 | 134.6042 |\n",
       "| Absence  | 120 | 52.75833 | 241.4917 | 128.8083 |\n",
       "\n"
      ],
      "text/plain": [
       "  heart_disease num_patient avg_age  chol_avg bp_avg  \n",
       "1 Presence       96         56.51042 253.3750 134.6042\n",
       "2 Absence       120         52.75833 241.4917 128.8083"
      ]
     },
     "metadata": {},
     "output_type": "display_data"
    }
   ],
   "source": [
    "#The data set for heart disease was upload first to GitHub and, using the GitHub link, we read the file with the read_csv function. \n",
    "heart <- read_csv(\"data/Heart_Disease_Prediction.csv\") \n",
    "#Cleaning the names\n",
    "heart <- clean_names(heart)\n",
    "\n",
    "#Converting the heart_disease variable to be a factor instead of character\n",
    "heart <- heart |>\n",
    "mutate(heart_disease = as_factor(heart_disease))\n",
    "\n",
    "#Splitting the data into the training data and testing data\n",
    "#Training data is 80% and the testing data is 20%\n",
    "heart_split <- initial_split(heart, prop = 0.80, strata = heart_disease)\n",
    "heart_train <- training(heart_split)\n",
    "heart_test <- testing(heart_split)\n",
    "\n",
    "#Selecting the variables that we are using for our prediction and plot\n",
    "heart_filtered <- heart_train |>\n",
    "select(age, bp, cholesterol, heart_disease)\n",
    "\n",
    "#Getting the summary statistics for the average in each variable, exlcuding heart_disease\n",
    "heart_mean <- heart_filtered|>\n",
    "select(-heart_disease) |>\n",
    "map_df(mean)\n",
    "\n",
    "#Counting the number of heart disease present or absent in the training data set\n",
    "heart_amount <- heart_filtered|>\n",
    "group_by(heart_disease) |>\n",
    "summarize(amount=n())\n",
    "\n",
    "#Combining the two data frames together to create single table of data anaklysis\n",
    "heart_summary <- bind_cols(heart_mean, heart_amount) |>\n",
    "pivot_wider(names_from=heart_disease,\n",
    "            values_from=amount) |>\n",
    "rename(age_avg=age, bp_avg=bp, chol_avg=cholesterol, hd_absence=Absence, hd_presence=Presence)\n",
    "\n",
    "heart_summary\n",
    "\n",
    "#\n",
    "#Using group_by(), to create two subsets and calculating the average for each variable\n",
    "heart_summary_2 <- heart_train |>\n",
    "group_by(heart_disease) |>\n",
    "summarize(patients = n(),\n",
    "         avg_age = mean(age),\n",
    "         chol_avg = mean(cholesterol),\n",
    "         bp_avg = mean(bp))\n",
    "\n",
    "heart_summary_2"
   ]
  },
  {
   "cell_type": "code",
   "execution_count": 22,
   "id": "f4e27937-d39f-4bad-b8d5-f350e849fe88",
   "metadata": {},
   "outputs": [],
   "source": [
    "\n",
    "ylshdgljslfgjlksjdfgjslkdfjg;lsjgf"
   ]
  },
  {
   "cell_type": "markdown",
   "id": "4cd03e8b-2e1b-406d-b02b-c487c335625f",
   "metadata": {},
   "source": [
    "\n",
    "# Expected outcomes and significance:\n",
    "Our research question aims to find the link between cholesterol, blood pressure, age and heart disease. Based on previous research, we are aware that cholesterol, blood pressure, and age have a significant affect on your health, but specifically the likelihood of having heart disease. With our research, we wish to determine if we can classify if a person has heart disease based on the values of those variables. The impact of this is that we can become aware of any serious health issues that may arise before it is too late. If we are successful in determining the relationship between these variables, in the future we could add more factors to these predictions and find out if there are more outstanding factors that contribute to having heart disease.\n"
   ]
  },
  {
   "cell_type": "markdown",
   "id": "66b4949a-aa6e-4cfc-81a4-dac30090f8f1",
   "metadata": {},
   "source": [
    "## Biblography"
   ]
  },
  {
   "cell_type": "markdown",
   "id": "e9e1d764-75fd-4151-9195-b2aaddeb3763",
   "metadata": {},
   "source": [
    "Centers for Disease Control and Prevention. (2017). LDL & HDL: Good & Bad Cholesterol. Centers for Disease Control and Prevention. https://www.cdc.gov/cholesterol/ldl_hdl.htm \n",
    "\n",
    "Centers for Disease Control and Prevention. (2021, May 18). About high blood pressure (hypertension). Centers for Disease Control and Prevention. https://www.cdc.gov/bloodpressure/about.htm\n",
    "\n",
    "Rodgers, J. L., Jones, J., Bolleddu, S. I., Vanthenapalli, S., Rodgers, L. E., Shah, K., Karia, K., & Panguluri, S. K. (2019). Cardiovascular Risks Associated with Gender and Aging. Journal of Cardiovascular Development and Disease, 6(2). https://doi.org/10.3390/jcdd6020019\n",
    "\n",
    "U.S. Department of Health and Human Services. (2023, December 20). What is coronary heart disease?. National Heart Lung and Blood Institute. https://www.nhlbi.nih.gov/health/coronary-heart-disease\n",
    "\n",
    "World Health Organization. (2020). Hypertension. World Health Organization. https://www.who.int/health-topics/hypertension#tab=tab_1"
   ]
  }
 ],
 "metadata": {
  "kernelspec": {
   "display_name": "R",
   "language": "R",
   "name": "ir"
  },
  "language_info": {
   "codemirror_mode": "r",
   "file_extension": ".r",
   "mimetype": "text/x-r-source",
   "name": "R",
   "pygments_lexer": "r",
   "version": "4.3.1"
  }
 },
 "nbformat": 4,
 "nbformat_minor": 5
}
